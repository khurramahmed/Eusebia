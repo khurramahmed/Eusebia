{
 "cells": [
  {
   "cell_type": "code",
   "execution_count": 2,
   "id": "abc97f5c-4e77-4d25-b496-df955b45cecb",
   "metadata": {},
   "outputs": [],
   "source": [
    "import os\n",
    "import dask.dataframe as dd\n",
    "import pandas as pd\n",
    "import h5py\n",
    "from dask import delayed"
   ]
  },
  {
   "cell_type": "code",
   "execution_count": 19,
   "id": "f8aba424-ef30-40e3-af73-79da28fabafd",
   "metadata": {},
   "outputs": [
    {
     "name": "stdout",
     "output_type": "stream",
     "text": [
      "Data extraction and conversion completed successfully!\n"
     ]
    }
   ],
   "source": [
    "import os\n",
    "import dask.dataframe as dd\n",
    "import h5py\n",
    "import pandas as pd\n",
    "import re\n",
    "\n",
    "# Define the base folder path\n",
    "base_folder = 'Bosch_CNC_Machining_Data'\n",
    "\n",
    "# Initialize an empty list to hold dataframes\n",
    "df_list = []\n",
    "\n",
    "# Define a mapping for machine and operation labels\n",
    "machine_mapping = {'M01': 'Machine 1', 'M02': 'Machine 2', 'M03': 'Machine 3'}\n",
    "operation_mapping = {f'OP{i:02d}': f'Operation {i}' for i in range(1, 15)}\n",
    "\n",
    "# Regular expression to match the expected file name format\n",
    "filename_pattern = re.compile(r\"^M(\\d{2})_(\\w+)_(OP\\d{2})_(\\d+)\\.h5$\")\n",
    "\n",
    "# Function to extract data from an h5 file and convert to DataFrame\n",
    "def extract_data_from_h5(file_path, machine, operation, label):\n",
    "    with h5py.File(file_path, 'r') as f:\n",
    "        # Extract the dataset\n",
    "        dataset = f[list(f.keys())[0]][:]\n",
    "    \n",
    "    # Convert to DataFrame\n",
    "    df = pd.DataFrame(dataset, columns=['X-axis', 'Y-axis', 'Z-axis'])\n",
    "    \n",
    "    # Create a Time column representing row numbers\n",
    "    df['Time'] = df.index\n",
    "    \n",
    "    # Extract metadata from file name\n",
    "    file_name = os.path.basename(file_path)\n",
    "    match = filename_pattern.match(file_name)\n",
    "    \n",
    "    if match:\n",
    "        machine_no, timeframe, process_no, example_no = match.groups()\n",
    "        # Split the timeframe into month and year\n",
    "        month, year = timeframe.split('_')\n",
    "        \n",
    "        # Add metadata to the DataFrame\n",
    "        df['Machine'] = machine\n",
    "        df['TimeFrame_Month'] = month\n",
    "        df['TimeFrame_Year'] = year\n",
    "        df['Process'] = operation\n",
    "        df['Example'] = example_no\n",
    "        df['Label'] = label\n",
    "    else:\n",
    "        print(f\"Filename does not match expected format: {file_name}\")\n",
    "        return None  # Return None if filename format is incorrect\n",
    "\n",
    "    return df\n",
    "\n",
    "# Traverse through the folder structure\n",
    "for machine_folder in os.listdir(base_folder):\n",
    "    machine_path = os.path.join(base_folder, machine_folder)\n",
    "    if os.path.isdir(machine_path) and machine_folder in machine_mapping:\n",
    "        machine = machine_mapping[machine_folder]\n",
    "        \n",
    "        for operation_folder in os.listdir(machine_path):\n",
    "            operation_path = os.path.join(machine_path, operation_folder)\n",
    "            if os.path.isdir(operation_path) and operation_folder in operation_mapping:\n",
    "                operation = operation_mapping[operation_folder]\n",
    "                \n",
    "                for label_folder in ['good', 'bad']:\n",
    "                    label_path = os.path.join(operation_path, label_folder)\n",
    "                    if os.path.isdir(label_path):\n",
    "                        label = 'good' if label_folder == 'good' else 'bad'\n",
    "                        \n",
    "                        # Process all .h5 files in the label folder\n",
    "                        for file in os.listdir(label_path):\n",
    "                            if file.endswith('.h5'):\n",
    "                                file_path = os.path.join(label_path, file)\n",
    "                                df = extract_data_from_h5(file_path, machine, operation, label)\n",
    "                                if df is not None:  # Only append if df is valid\n",
    "                                    df_list.append(df)\n",
    "\n",
    "# Concatenate all dataframes into a single Dask DataFrame\n",
    "dask_df = dd.from_pandas(pd.concat(df_list, ignore_index=True), npartitions=4)\n",
    "\n",
    "# Save to CSV\n",
    "dask_df.to_csv('extracted_data.csv', single_file=True, index=False)\n",
    "\n",
    "print(\"Data extraction and conversion completed successfully!\")"
   ]
  },
  {
   "cell_type": "code",
   "execution_count": 20,
   "id": "dd1d2296-b868-4997-8af0-634223f7c564",
   "metadata": {},
   "outputs": [],
   "source": [
    "df = dd.read_csv('extracted_data.csv')"
   ]
  },
  {
   "cell_type": "code",
   "execution_count": 22,
   "id": "fa94a3cf-f112-44b9-8bba-7499580b4487",
   "metadata": {},
   "outputs": [
    {
     "name": "stdout",
     "output_type": "stream",
     "text": [
      "   X-axis  Y-axis  Z-axis  Time    Machine TimeFrame_Month  TimeFrame_Year  \\\n",
      "0   -15.0    23.0 -1018.0     0  Machine 1             Aug            2019   \n",
      "1    -7.0    15.0 -1016.0     1  Machine 1             Aug            2019   \n",
      "2    -7.0    19.0 -1009.0     2  Machine 1             Aug            2019   \n",
      "3   -15.0    27.0 -1016.0     3  Machine 1             Aug            2019   \n",
      "4   -17.0    35.0 -1015.0     4  Machine 1             Aug            2019   \n",
      "\n",
      "       Process  Example Label  \n",
      "0  Operation 1        0  good  \n",
      "1  Operation 1        0  good  \n",
      "2  Operation 1        0  good  \n",
      "3  Operation 1        0  good  \n",
      "4  Operation 1        0  good  \n",
      "        X-axis  Y-axis  Z-axis   Time    Machine TimeFrame_Month  \\\n",
      "956541    21.0    -3.0 -1022.0  63483  Machine 3             Feb   \n",
      "956542    27.0    25.0 -1011.0  63484  Machine 3             Feb   \n",
      "956543    21.0    -5.0 -1015.0  63485  Machine 3             Feb   \n",
      "956544     9.0    17.0 -1034.0  63486  Machine 3             Feb   \n",
      "956545    21.0    13.0 -1026.0  63487  Machine 3             Feb   \n",
      "\n",
      "        TimeFrame_Year       Process  Example Label  \n",
      "956541            2021  Operation 13        2  good  \n",
      "956542            2021  Operation 13        2  good  \n",
      "956543            2021  Operation 13        2  good  \n",
      "956544            2021  Operation 13        2  good  \n",
      "956545            2021  Operation 13        2  good  \n"
     ]
    }
   ],
   "source": [
    "print(df.head())\n",
    "print(df.tail())"
   ]
  },
  {
   "cell_type": "code",
   "execution_count": null,
   "id": "a4484972-7493-4c9f-ac42-cf9e6583cbfb",
   "metadata": {},
   "outputs": [],
   "source": [
    "print(df['Machine'].unique().compute())\n",
    "print(df['Process'].unique().compute())\n",
    "print(df['Example'].unique().compute())\n",
    "print(df['Label'].unique().compute())"
   ]
  }
 ],
 "metadata": {
  "kernelspec": {
   "display_name": "Python 3 (ipykernel)",
   "language": "python",
   "name": "python3"
  },
  "language_info": {
   "codemirror_mode": {
    "name": "ipython",
    "version": 3
   },
   "file_extension": ".py",
   "mimetype": "text/x-python",
   "name": "python",
   "nbconvert_exporter": "python",
   "pygments_lexer": "ipython3",
   "version": "3.12.4"
  }
 },
 "nbformat": 4,
 "nbformat_minor": 5
}
