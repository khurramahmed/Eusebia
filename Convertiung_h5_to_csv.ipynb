{
 "cells": [
  {
   "cell_type": "code",
   "execution_count": 1,
   "id": "abc97f5c-4e77-4d25-b496-df955b45cecb",
   "metadata": {},
   "outputs": [],
   "source": [
    "import os\n",
    "import dask.dataframe as dd\n",
    "import pandas as pd\n",
    "import h5py\n",
    "import re"
   ]
  },
  {
   "cell_type": "code",
   "execution_count": 6,
   "id": "5a0fb35a-30dc-490e-9fd9-4175c12cbcd0",
   "metadata": {},
   "outputs": [
    {
     "name": "stdout",
     "output_type": "stream",
     "text": [
      "Data extraction and conversion completed successfully!\n"
     ]
    }
   ],
   "source": [
    "# Define the base folder path\n",
    "base_folder = 'Bosch_CNC_Machining_Data'\n",
    "\n",
    "# Define a mapping for machine and operation labels\n",
    "machine_mapping = {'M01': 'Machine 1', 'M02': 'Machine 2', 'M03': 'Machine 3'}\n",
    "operation_mapping = {f'OP{i:02d}': f'Operation {i}' for i in range(0, 15)}\n",
    "\n",
    "# Regular expression to match the expected file name format\n",
    "filename_pattern = re.compile(r\"^M(\\d{2})_(\\w+)_(OP\\d{2})_(\\d+)\\.h5$\")\n",
    "\n",
    "# Function to extract data from an h5 file and convert to DataFrame\n",
    "def extract_data_from_h5(file_path, machine, operation, label):\n",
    "    with h5py.File(file_path, 'r') as f:\n",
    "        # Extract the dataset\n",
    "        dataset = f[list(f.keys())[0]][:]\n",
    "    \n",
    "    # Convert to DataFrame\n",
    "    df = pd.DataFrame(dataset, columns=['X-axis', 'Y-axis', 'Z-axis'])\n",
    "    \n",
    "    # Create a Time column representing row numbers\n",
    "    df['Time'] = df.index\n",
    "    \n",
    "    # Extract metadata from file name\n",
    "    file_name = os.path.basename(file_path)\n",
    "    match = filename_pattern.match(file_name)\n",
    "    \n",
    "    if match:\n",
    "        machine_no, timeframe, process_no, example_no = match.groups()\n",
    "        # Split the timeframe into month and year\n",
    "        month, year = timeframe.split('_')\n",
    "        \n",
    "        # Add metadata to the DataFrame\n",
    "        df['Machine'] = machine\n",
    "        df['TimeFrame_Month'] = month\n",
    "        df['TimeFrame_Year'] = year\n",
    "        df['Process'] = operation\n",
    "        df['Example'] = example_no\n",
    "        df['Label'] = label\n",
    "    else:\n",
    "        print(f\"Filename does not match expected format: {file_name}\")\n",
    "        return None  # Return None if filename format is incorrect\n",
    "\n",
    "    return df\n",
    "\n",
    "# Initialize an empty list to hold Dask dataframes\n",
    "df_list = []\n",
    "\n",
    "# Traverse through the folder structure\n",
    "for machine_folder in os.listdir(base_folder):\n",
    "    machine_path = os.path.join(base_folder, machine_folder)\n",
    "    if os.path.isdir(machine_path) and machine_folder in machine_mapping:\n",
    "        machine = machine_mapping[machine_folder]\n",
    "        \n",
    "        for operation_folder in os.listdir(machine_path):\n",
    "            operation_path = os.path.join(machine_path, operation_folder)\n",
    "            if os.path.isdir(operation_path) and operation_folder in operation_mapping:\n",
    "                operation = operation_mapping[operation_folder]\n",
    "                \n",
    "                for label_folder in ['good', 'bad']:\n",
    "                    label_path = os.path.join(operation_path, label_folder)\n",
    "                    if os.path.isdir(label_path):\n",
    "                        label = 'good' if label_folder == 'good' else 'bad'\n",
    "                        \n",
    "                        # Process all .h5 files in the label folder\n",
    "                        for file in os.listdir(label_path):\n",
    "                            if file.endswith('.h5'):\n",
    "                                file_path = os.path.join(label_path, file)\n",
    "                                df = extract_data_from_h5(file_path, machine, operation, label)\n",
    "                                if df is not None:  # Only append if df is valid\n",
    "                                    # Convert to Dask DataFrame and append\n",
    "                                    dask_df = dd.from_pandas(df, npartitions=1)\n",
    "                                    df_list.append(dask_df)\n",
    "\n",
    "# Concatenate all dataframes into a single Dask DataFrame\n",
    "combined_dask_df = dd.concat(df_list)\n",
    "\n",
    "# Save to CSV\n",
    "combined_dask_df.to_csv('extracted_data.csv', single_file=True, index=False)\n",
    "\n",
    "print(\"Data extraction and conversion completed successfully!\")\n"
   ]
  },
  {
   "cell_type": "code",
   "execution_count": 7,
   "id": "dd1d2296-b868-4997-8af0-634223f7c564",
   "metadata": {},
   "outputs": [],
   "source": [
    "df = dd.read_csv('extracted_data.csv')"
   ]
  },
  {
   "cell_type": "code",
   "execution_count": 8,
   "id": "fa94a3cf-f112-44b9-8bba-7499580b4487",
   "metadata": {},
   "outputs": [
    {
     "name": "stdout",
     "output_type": "stream",
     "text": [
      "   X-axis  Y-axis  Z-axis  Time    Machine TimeFrame_Month  TimeFrame_Year  \\\n",
      "0    -9.0     9.0 -1011.0     0  Machine 1             Aug            2019   \n",
      "1   -21.0    19.0 -1011.0     1  Machine 1             Aug            2019   \n",
      "2   -15.0    23.0 -1020.0     2  Machine 1             Aug            2019   \n",
      "3    -9.0    27.0 -1013.0     3  Machine 1             Aug            2019   \n",
      "4    -9.0    17.0 -1020.0     4  Machine 1             Aug            2019   \n",
      "\n",
      "       Process  Example Label  \n",
      "0  Operation 0        0  good  \n",
      "1  Operation 0        0  good  \n",
      "2  Operation 0        0  good  \n",
      "3  Operation 0        0  good  \n",
      "4  Operation 0        0  good  \n",
      "        X-axis  Y-axis  Z-axis   Time    Machine TimeFrame_Month  \\\n",
      "958545    21.0    -3.0 -1022.0  63483  Machine 3             Feb   \n",
      "958546    27.0    25.0 -1011.0  63484  Machine 3             Feb   \n",
      "958547    21.0    -5.0 -1015.0  63485  Machine 3             Feb   \n",
      "958548     9.0    17.0 -1034.0  63486  Machine 3             Feb   \n",
      "958549    21.0    13.0 -1026.0  63487  Machine 3             Feb   \n",
      "\n",
      "        TimeFrame_Year       Process  Example Label  \n",
      "958545            2021  Operation 13        2  good  \n",
      "958546            2021  Operation 13        2  good  \n",
      "958547            2021  Operation 13        2  good  \n",
      "958548            2021  Operation 13        2  good  \n",
      "958549            2021  Operation 13        2  good  \n"
     ]
    }
   ],
   "source": [
    "print(df.head())\n",
    "print(df.tail())"
   ]
  },
  {
   "cell_type": "code",
   "execution_count": 9,
   "id": "a4484972-7493-4c9f-ac42-cf9e6583cbfb",
   "metadata": {},
   "outputs": [
    {
     "name": "stdout",
     "output_type": "stream",
     "text": [
      "0    Machine 2\n",
      "0    Machine 1\n",
      "0    Machine 3\n",
      "Name: Machine, dtype: object\n",
      "0     Operation 6\n",
      "0     Operation 2\n",
      "1    Operation 14\n",
      "0     Operation 7\n",
      "0     Operation 9\n",
      "0     Operation 3\n",
      "0     Operation 8\n",
      "0     Operation 4\n",
      "0     Operation 0\n",
      "0    Operation 11\n",
      "1    Operation 13\n",
      "0    Operation 10\n",
      "0     Operation 1\n",
      "0    Operation 12\n",
      "0     Operation 5\n",
      "Name: Process, dtype: object\n",
      "0    18\n",
      "0    10\n",
      "0    14\n",
      "0     6\n",
      "0     2\n",
      "0     5\n",
      "0     1\n",
      "0    16\n",
      "0     3\n",
      "0     8\n",
      "0    17\n",
      "0    12\n",
      "0    19\n",
      "0    11\n",
      "0     0\n",
      "1    15\n",
      "0    13\n",
      "0    20\n",
      "0     9\n",
      "0     7\n",
      "0     4\n",
      "0    21\n",
      "Name: Example, dtype: int64\n",
      "0    good\n",
      "0     bad\n",
      "Name: Label, dtype: object\n"
     ]
    }
   ],
   "source": [
    "print(df['Machine'].unique().compute())\n",
    "print(df['Process'].unique().compute())\n",
    "print(df['Example'].unique().compute())\n",
    "print(df['Label'].unique().compute())"
   ]
  },
  {
   "cell_type": "code",
   "execution_count": null,
   "id": "98413312-15a1-4b74-9528-493058231782",
   "metadata": {},
   "outputs": [],
   "source": []
  }
 ],
 "metadata": {
  "kernelspec": {
   "display_name": "Python 3 (ipykernel)",
   "language": "python",
   "name": "python3"
  },
  "language_info": {
   "codemirror_mode": {
    "name": "ipython",
    "version": 3
   },
   "file_extension": ".py",
   "mimetype": "text/x-python",
   "name": "python",
   "nbconvert_exporter": "python",
   "pygments_lexer": "ipython3",
   "version": "3.12.4"
  }
 },
 "nbformat": 4,
 "nbformat_minor": 5
}
